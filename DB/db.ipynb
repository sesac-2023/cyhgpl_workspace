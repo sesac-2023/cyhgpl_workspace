{
 "cells": [
  {
   "cell_type": "code",
   "execution_count": 64,
   "metadata": {},
   "outputs": [
    {
     "name": "stdout",
     "output_type": "stream",
     "text": [
      "연결성공\n"
     ]
    }
   ],
   "source": [
    "import pymysql\n",
    "\n",
    "conn = pymysql.connect(host = \"localhost\", port = 3306, db=\"study\", user = \"cyhgpl\", password = \"1596\")\n",
    "try:\n",
    "    conn\n",
    "    print(\"연결성공\")\n",
    "except:\n",
    "    print(\"연결실패\")\n",
    "\n"
   ]
  },
  {
   "cell_type": "code",
   "execution_count": 44,
   "metadata": {},
   "outputs": [
    {
     "name": "stdout",
     "output_type": "stream",
     "text": [
      "연결성공\n"
     ]
    },
    {
     "data": {
      "text/plain": [
       "((6, '성춘향', '경기', 27),\n",
       " (7, '이몽룡', '대전', 42),\n",
       " (9, '지영', '전주', 28),\n",
       " (10, '최진', '천안', 20),\n",
       " (11, '가영', '동해', 35))"
      ]
     },
     "execution_count": 44,
     "metadata": {},
     "output_type": "execute_result"
    }
   ],
   "source": [
    "import pymysql\n",
    "with open(\"./db_config\", \"r\") as f:\n",
    "    config = f.readlines()\n",
    "\n",
    "\n",
    "config_dict = {}\n",
    "for l in config:\n",
    "    #k, v = l.split('=')\n",
    "    idx = l.index('=')\n",
    "    k = l[:idx]\n",
    "    v = l[idx + 1:]\n",
    "    config_dict[k] = v.rstrip()\n",
    "\n",
    "conn = pymysql.connect(**config_dict)  # config_dict 언패킹\n",
    "\n",
    "try:\n",
    "    conn\n",
    "    print(\"연결성공\")\n",
    "except Exception as e:\n",
    "    print(\"연결실패\", e)\n",
    "\n",
    "def pagination(page, page_size=5):\n",
    "    limit = page_size\n",
    "    offset = page_size*(page-1)\n",
    "    with conn.cursor() as cursor:\n",
    "        #sql = 'insert into `students`(`name`, `age`, `address`) values(\"지영\", \"28\", \"전주\");'\n",
    "        #_sql = 'insert into `students`(`name`, `age`, `address`) values(%s, %s, %s);'\n",
    "        __sql = 'select * from `students` where `age` > %s limit %s offset %s'\n",
    "        #cursor.execute(sql)\n",
    "        #cursor.execute(_sql,(\"최진\",\"32\",\"천안\"))  #데이터를 하나만 넣더라도 튜플이 되게 (\"최진\",) 이런식으로 넣어준다.\n",
    "        #cursor.executemany(_sql, [(\"가영\",\"35\",\"동해\"),(\"민수\",\"40\",\"무안\"),(\"다니엘\",\"35\",\"부산\")])\n",
    "        cursor.execute(__sql,(5, limit, offset))\n",
    "        data = cursor.fetchall()        # 보통 fetchall 하고 limit과 offset으로 조절한다. \n",
    "        #data1 = cursor.fetchone()\n",
    "        #data2 = cursor.fetchmany(size=5) \n",
    "    conn.commit()\n",
    "    return data\n",
    "\n",
    "pagination(2)"
   ]
  },
  {
   "cell_type": "code",
   "execution_count": 45,
   "metadata": {},
   "outputs": [
    {
     "data": {
      "text/plain": [
       "{'host': 'localhost',\n",
       " 'user': 'cyhgpl',\n",
       " 'password': '1596',\n",
       " 'database': 'study',\n",
       " 'charset': 'utf8mb4'}"
      ]
     },
     "execution_count": 45,
     "metadata": {},
     "output_type": "execute_result"
    }
   ],
   "source": [
    "def read_config(p:str) -> dict:\n",
    "    with open(p, 'r') as f:\n",
    "        config = f.readlines()\n",
    "    config_dict = {}\n",
    "    for l in config:\n",
    "        #k, v = l.split('=')\n",
    "        idx = l.index('=')\n",
    "        k = l[:idx]\n",
    "        v = l[idx + 1:]\n",
    "        config_dict[k] = v.rstrip()\n",
    "\n",
    "    return config_dict\n",
    "\n",
    "\n",
    "read_config(\"../db_config copy\") # 점 두개는 config\n"
   ]
  },
  {
   "cell_type": "code",
   "execution_count": 65,
   "metadata": {},
   "outputs": [
    {
     "data": {
      "text/plain": [
       "((6, '성춘향', '경기', 27),\n",
       " (7, '이몽룡', '대전', 42),\n",
       " (9, '지영', '전주', 28),\n",
       " (11, '가영', '동해', 35),\n",
       " (12, '민수', '무안', 40))"
      ]
     },
     "execution_count": 65,
     "metadata": {},
     "output_type": "execute_result"
    }
   ],
   "source": [
    "\n",
    "with conn.cursor() as cur:\n",
    "    #sql = 'update students set age=%s where studentid=%s'\n",
    "    sql = 'delete from students where studentid =\"10\"'\n",
    "    cur.execute(sql)\n",
    "    #cur.executemany(sql, [(55, 2),(10, 5)])\n",
    "conn.commit()\n",
    "\n",
    "pagination(2)"
   ]
  },
  {
   "cell_type": "code",
   "execution_count": 62,
   "metadata": {},
   "outputs": [],
   "source": [
    "conn.close()"
   ]
  },
  {
   "cell_type": "code",
   "execution_count": 73,
   "metadata": {},
   "outputs": [],
   "source": [
    "with conn.cursor() as cur:\n",
    "    #sql = 'create table Student(id int not null auto_increment, name varchar(255) not null, email varchar(255) not null, phone varchar(255) not null, major varchar(255) not null, primary key(id));'\n",
    "    #cur.execute(sql)\n",
    "    sql_insert = 'insert into Student(name, email, phone, major) values(%s, %s, %s, %s)'\n",
    "    cur.executemany(sql_insert, [(\"a\", \"a@naver.com\", \"a1234\", \"math\"),(\"b\", \"b@naver.com\", \"b1234\", \"Computer\"),(\"c\", \"c@naver.com\", \"c1234\", \"Science\"),(\"d\", \"d@naver.com\", \"d1234\", \"English\")])\n",
    "conn.commit()"
   ]
  }
 ],
 "metadata": {
  "kernelspec": {
   "display_name": "Python 3.10.9 ('base')",
   "language": "python",
   "name": "python3"
  },
  "language_info": {
   "codemirror_mode": {
    "name": "ipython",
    "version": 3
   },
   "file_extension": ".py",
   "mimetype": "text/x-python",
   "name": "python",
   "nbconvert_exporter": "python",
   "pygments_lexer": "ipython3",
   "version": "3.10.9"
  },
  "orig_nbformat": 4,
  "vscode": {
   "interpreter": {
    "hash": "29865f05af80384af78d9233101596088e9d9771dcfe0a2d252f1a59aee54b06"
   }
  }
 },
 "nbformat": 4,
 "nbformat_minor": 2
}
