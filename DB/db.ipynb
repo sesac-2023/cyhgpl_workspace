{
 "cells": [
  {
   "cell_type": "code",
   "execution_count": 64,
   "metadata": {},
   "outputs": [
    {
     "name": "stdout",
     "output_type": "stream",
     "text": [
      "연결성공\n"
     ]
    }
   ],
   "source": [
    "import pymysql\n",
    "\n",
    "conn = pymysql.connect(host = \"localhost\", port = 3306, db=\"study\", user = \"cyhgpl\", password = \"1596\")\n",
    "try:\n",
    "    conn\n",
    "    print(\"연결성공\")\n",
    "except:\n",
    "    print(\"연결실패\")\n",
    "\n"
   ]
  },
  {
   "cell_type": "code",
   "execution_count": 44,
   "metadata": {},
   "outputs": [
    {
     "name": "stdout",
     "output_type": "stream",
     "text": [
      "연결성공\n"
     ]
    },
    {
     "data": {
      "text/plain": [
       "((6, '성춘향', '경기', 27),\n",
       " (7, '이몽룡', '대전', 42),\n",
       " (9, '지영', '전주', 28),\n",
       " (10, '최진', '천안', 20),\n",
       " (11, '가영', '동해', 35))"
      ]
     },
     "execution_count": 44,
     "metadata": {},
     "output_type": "execute_result"
    }
   ],
   "source": [
    "import pymysql\n",
    "with open(\"./db_config\", \"r\") as f:\n",
    "    config = f.readlines()\n",
    "\n",
    "\n",
    "config_dict = {}\n",
    "for l in config:\n",
    "    #k, v = l.split('=')\n",
    "    idx = l.index('=')\n",
    "    k = l[:idx]\n",
    "    v = l[idx + 1:]\n",
    "    config_dict[k] = v.rstrip()\n",
    "\n",
    "conn = pymysql.connect(**config_dict)  # config_dict 언패킹\n",
    "\n",
    "try:\n",
    "    conn\n",
    "    print(\"연결성공\")\n",
    "except Exception as e:\n",
    "    print(\"연결실패\", e)\n",
    "\n",
    "def pagination(page, page_size=5):\n",
    "    limit = page_size\n",
    "    offset = page_size*(page-1)\n",
    "    with conn.cursor() as cursor:\n",
    "        #sql = 'insert into `students`(`name`, `age`, `address`) values(\"지영\", \"28\", \"전주\");'\n",
    "        #_sql = 'insert into `students`(`name`, `age`, `address`) values(%s, %s, %s);'\n",
    "        __sql = 'select * from `students` where `age` > %s limit %s offset %s'\n",
    "        #cursor.execute(sql)\n",
    "        #cursor.execute(_sql,(\"최진\",\"32\",\"천안\"))  #데이터를 하나만 넣더라도 튜플이 되게 (\"최진\",) 이런식으로 넣어준다.\n",
    "        #cursor.executemany(_sql, [(\"가영\",\"35\",\"동해\"),(\"민수\",\"40\",\"무안\"),(\"다니엘\",\"35\",\"부산\")])\n",
    "        cursor.execute(__sql,(5, limit, offset))\n",
    "        data = cursor.fetchall()        # 보통 fetchall 하고 limit과 offset으로 조절한다. \n",
    "        #data1 = cursor.fetchone()\n",
    "        #data2 = cursor.fetchmany(size=5) \n",
    "    conn.commit()\n",
    "    return data\n",
    "\n",
    "pagination(2)"
   ]
  },
  {
   "cell_type": "code",
   "execution_count": 45,
   "metadata": {},
   "outputs": [
    {
     "data": {
      "text/plain": [
       "{'host': 'localhost',\n",
       " 'user': 'cyhgpl',\n",
       " 'password': '1596',\n",
       " 'database': 'study',\n",
       " 'charset': 'utf8mb4'}"
      ]
     },
     "execution_count": 45,
     "metadata": {},
     "output_type": "execute_result"
    }
   ],
   "source": [
    "def read_config(p:str) -> dict:\n",
    "    with open(p, 'r') as f:\n",
    "        config = f.readlines()\n",
    "    config_dict = {}\n",
    "    for l in config:\n",
    "        #k, v = l.split('=')\n",
    "        idx = l.index('=')\n",
    "        k = l[:idx]\n",
    "        v = l[idx + 1:]\n",
    "        config_dict[k] = v.rstrip()\n",
    "\n",
    "    return config_dict\n",
    "\n",
    "\n",
    "read_config(\"../db_config copy\") # 점 두개는 config\n"
   ]
  },
  {
   "cell_type": "code",
   "execution_count": 65,
   "metadata": {},
   "outputs": [
    {
     "data": {
      "text/plain": [
       "((6, '성춘향', '경기', 27),\n",
       " (7, '이몽룡', '대전', 42),\n",
       " (9, '지영', '전주', 28),\n",
       " (11, '가영', '동해', 35),\n",
       " (12, '민수', '무안', 40))"
      ]
     },
     "execution_count": 65,
     "metadata": {},
     "output_type": "execute_result"
    }
   ],
   "source": [
    "\n",
    "with conn.cursor() as cur:\n",
    "    #sql = 'update students set age=%s where studentid=%s'\n",
    "    sql = 'delete from students where studentid =\"10\"'\n",
    "    cur.execute(sql)\n",
    "    #cur.executemany(sql, [(55, 2),(10, 5)])\n",
    "conn.commit()\n",
    "\n",
    "pagination(2)"
   ]
  },
  {
   "cell_type": "code",
   "execution_count": 62,
   "metadata": {},
   "outputs": [],
   "source": [
    "conn.close()"
   ]
  },
  {
   "cell_type": "code",
   "execution_count": 73,
   "metadata": {},
   "outputs": [],
   "source": [
    "with conn.cursor() as cur:\n",
    "    #sql = 'create table Student(id int not null auto_increment, name varchar(255) not null, email varchar(255) not null, phone varchar(255) not null, major varchar(255) not null, primary key(id));'\n",
    "    #cur.execute(sql)\n",
    "    sql_insert = 'insert into Student(name, email, phone, major) values(%s, %s, %s, %s)'\n",
    "    cur.executemany(sql_insert, [(\"a\", \"a@naver.com\", \"a1234\", \"math\"),(\"b\", \"b@naver.com\", \"b1234\", \"Computer\"),(\"c\", \"c@naver.com\", \"c1234\", \"Science\"),(\"d\", \"d@naver.com\", \"d1234\", \"English\")])\n",
    "conn.commit()"
   ]
  },
  {
   "cell_type": "code",
   "execution_count": 82,
   "metadata": {},
   "outputs": [
    {
     "data": {
      "text/plain": [
       "True"
      ]
     },
     "execution_count": 82,
     "metadata": {},
     "output_type": "execute_result"
    }
   ],
   "source": [
    "table_name = \"Student\"\n",
    "columns = ['name', 'email', 'phone', 'major']\n",
    "columns = ','.join(columns)\n",
    "values = (\"최재\", \"jason@fin.a\", \"0109928279\", \"산업공\")\n",
    "value = ','.join(['%s']*len(values))\n",
    "def insert(table_name, columns, values):\n",
    "    try:\n",
    "        with conn.cursor() as cur:\n",
    "            sql = f'insert into {table_name}({columns}) values({value})'\n",
    "            cur.execute(sql, values)\n",
    "        conn.commit()\n",
    "        return True\n",
    "    except Exception as e:\n",
    "        print(e)\n",
    "        return False\n",
    "insert(table_name, columns, values)"
   ]
  },
  {
   "cell_type": "code",
   "execution_count": 94,
   "metadata": {},
   "outputs": [
    {
     "data": {
      "text/plain": [
       "True"
      ]
     },
     "execution_count": 94,
     "metadata": {},
     "output_type": "execute_result"
    }
   ],
   "source": [
    "table_name = \"Student\"\n",
    "columns = ['name', 'email', 'phone', 'major']\n",
    "columns = ','.join(columns)\n",
    "values = [(\"최재\", \"jason@fin.a\", \"0109928279\", \"산업공\"), (\"최\", \"jason@fin.\", \"010992827\", \"산업\"), (\"-\", \"jason@fin\", \"01099282\", \"산\")]\n",
    "value = ','.join(['%s']*len(values[0]))\n",
    "def insert(table_name, columns, values):\n",
    "    try:\n",
    "        with conn.cursor() as cur:\n",
    "            sql = f'insert into {table_name}({columns}) values({value})'\n",
    "            cur.executemany(sql, values)\n",
    "        conn.commit()\n",
    "        return True\n",
    "    except Exception as e:\n",
    "        print(e)\n",
    "        return False\n",
    "insert(table_name, columns, values)"
   ]
  },
  {
   "cell_type": "code",
   "execution_count": 97,
   "metadata": {},
   "outputs": [
    {
     "name": "stdout",
     "output_type": "stream",
     "text": [
      "((1, 'a', 'a@naver.com', 'a1234', 'math'), (2, 'b', 'b@naver.com', 'b1234', 'Computer'), (3, 'c', 'c@naver.com', 'c1234', 'Science'), (4, 'd', 'd@naver.com', 'd1234', 'English'), (5, '최재진', 'jason@fin.ai', '01099282799', '산업공학'), (6, '최재', 'jason@fin.a', '0109928279', '산업공'), (7, '최재', 'jason@fin.a', '0109928279', '산업공'), (8, '최', 'jason@fin.', '010992827', '산업'), (9, '-', 'jason@fin', '01099282', '산'))\n"
     ]
    },
    {
     "data": {
      "text/plain": [
       "True"
      ]
     },
     "execution_count": 97,
     "metadata": {},
     "output_type": "execute_result"
    }
   ],
   "source": [
    "columns = \"*\"\n",
    "table_name = \"Student\"\n",
    "def select(columns, table_name):\n",
    "    try:\n",
    "        with conn.cursor() as cur:\n",
    "            sql = f'select {columns} from {table_name}'\n",
    "            cur.execute(sql)\n",
    "            data = cur.fetchall()\n",
    "            print(data)\n",
    "        return True\n",
    "    except Exception as e:\n",
    "        return False\n",
    "select(columns, table_name)"
   ]
  },
  {
   "cell_type": "code",
   "execution_count": 114,
   "metadata": {},
   "outputs": [
    {
     "data": {
      "text/plain": [
       "False"
      ]
     },
     "execution_count": 114,
     "metadata": {},
     "output_type": "execute_result"
    }
   ],
   "source": [
    "table_name = \"Student\"\n",
    "email = \"cyhgpl@naver.com\"\n",
    "id = 8\n",
    "def select (table_name, email, id):\n",
    "    try:\n",
    "        with conn.cursor() as cur:\n",
    "            sql = f'update {table_name} set email = %s where id ={id}'\n",
    "            cur.execute(sql, email)\n",
    "        conn.commit()\n",
    "        return True\n",
    "    except Exception as e:\n",
    "        return False\n",
    "select(table_name, email, id)"
   ]
  },
  {
   "cell_type": "code",
   "execution_count": 107,
   "metadata": {},
   "outputs": [],
   "source": [
    "table_name = \"Student\"\n",
    "email = \"naver.com\"\n",
    "id = 9\n",
    "with conn.cursor() as cur:\n",
    "    sql = f'update {table_name} set email=\"cyhgpl@naver.com\" where id={id}'\n",
    "    cur.execute(sql)\n",
    "conn.commit()"
   ]
  },
  {
   "cell_type": "code",
   "execution_count": 92,
   "metadata": {},
   "outputs": [
    {
     "name": "stdout",
     "output_type": "stream",
     "text": [
      "오늘의 날씨\n"
     ]
    }
   ],
   "source": [
    "with open('data.csv', 'w') as f:        # with을 써야 자동으로 연결되고 닫힌다.\n",
    "    f.write(\"오늘의 날씨\")\n",
    "    #txt = f.read()\n",
    "    #print(txt)\n",
    "\n",
    "with open('data.csv', 'r') as f:\n",
    "    #f.write(\"오늘의 날씨\")\n",
    "    txt = f.read()\n",
    "    print(txt)"
   ]
  },
  {
   "cell_type": "code",
   "execution_count": 6,
   "metadata": {},
   "outputs": [
    {
     "name": "stdout",
     "output_type": "stream",
     "text": [
      "연결성공\n"
     ]
    },
    {
     "data": {
      "text/plain": [
       "((1, 'a', 'update2@naver.com', 'a1234', 'math'),\n",
       " (2, 'b', 'update2@naver.com', 'b1234', 'Computer'),\n",
       " (4, 'd', 'd@naver.com', 'd1234', 'English'),\n",
       " (7, '최재', 'update@naver.com', '0109928279', '산업공'),\n",
       " (8, '최', 'cyhgpl@naver.com', '010992827', '산업'))"
      ]
     },
     "execution_count": 6,
     "metadata": {},
     "output_type": "execute_result"
    }
   ],
   "source": [
    "import pymysql\n",
    "\n",
    "class MariaDB:\n",
    "    def __init__(self, db_config):\n",
    "        with open(f\"./{db_config}\", \"r\") as f:\n",
    "            config = f.readlines()\n",
    "\n",
    "        config_dict = {}\n",
    "        for l in config:\n",
    "            #k, v = l.split('=')\n",
    "            idx = l.index('=')\n",
    "            k = l[:idx]\n",
    "            v = l[idx + 1:]\n",
    "            config_dict[k] = v.rstrip()\n",
    "\n",
    "        self.conn = pymysql.connect(**config_dict)  # config_dict 언패킹\n",
    "\n",
    "        try:\n",
    "            self.conn\n",
    "            print(\"연결성공\")\n",
    "        except Exception as e:\n",
    "            print(\"연결실패\", e)\n",
    "        \n",
    "    def insert(self, table_name, columns, values):\n",
    "        columns = ','.join(columns)\n",
    "        value = ','.join(['%s']*len(values))\n",
    "        try:\n",
    "            with self.conn.cursor() as cur:\n",
    "                sql = f'insert into {table_name}({columns}) values({value})'\n",
    "                cur.execute(sql, values)\n",
    "            self.conn.commit()\n",
    "            return True\n",
    "        except Exception as e:\n",
    "            print(e)\n",
    "            return False\n",
    "    \n",
    "    # 들어갈 데이터 값은 fstring으로는 안되고 , execute(sql, )여기서 sql 옆에 추가한다.\n",
    "    def insert_many(self, table_name, columns, values):\n",
    "        columns = ','.join(columns)\n",
    "        value = ','.join(['%s']*len(values[0]))\n",
    "        try:\n",
    "            with self.conn.cursor() as cur:\n",
    "                sql = f'insert into {table_name}({columns}) values({value})'\n",
    "                cur.executemany(sql, values)\n",
    "            self.conn.commit()\n",
    "            return True\n",
    "        except Exception as e:\n",
    "            print(e)\n",
    "            return False\n",
    "            \n",
    "    def select(self, table_name, page=None, page_size=5): #페이지를 안 주면 None이 되어서 전체가 출력된다.\n",
    "        limit = page_size\n",
    "        offset = page_size*(page-1)\n",
    "        try:\n",
    "            with self.conn.cursor() as cur:\n",
    "                sql = f'select * from {table_name} limit {limit} offset {offset}'\n",
    "                cur.execute(sql)\n",
    "                data = cur.fetchall()  \n",
    "            return data\n",
    "        except Exception as e:\n",
    "            return False\n",
    "        \n",
    "    def update(self, table_name, email, id):\n",
    "        try:\n",
    "            with self.conn.cursor() as cur:\n",
    "                sql = f'update {table_name} set email = %s where id ={id}'\n",
    "                cur.execute(sql, email)\n",
    "            self.conn.commit()\n",
    "            return True\n",
    "        except Exception as e:\n",
    "            return False\n",
    "    \n",
    "    def update_many(self, table_name, email, id):\n",
    "        a= zip(email, id)\n",
    "        b = []\n",
    "        for i, j in a:\n",
    "            b.append((i,j))\n",
    "        try:\n",
    "            with self.conn.cursor() as cur:\n",
    "                sql = f'update {table_name} set email = %s where id = %s'\n",
    "                cur.executemany(sql, b)\n",
    "            self.conn.commit()\n",
    "            return True\n",
    "        except Exception as e:\n",
    "            return False\n",
    "\n",
    "    def delete(self,table_name, id):\n",
    "        try:\n",
    "            with self.conn.cursor() as cur:\n",
    "                sql = f'delete from {table_name} where id ={id}'\n",
    "                cur.execute(sql)\n",
    "            self.conn.commit()\n",
    "            return True\n",
    "        except Exception as e:\n",
    "            return False\n",
    "    \n",
    "    def delete_many(self,table_name,id):\n",
    "        try:\n",
    "            with self.conn.cursor() as cur:\n",
    "                sql = f'delete from {table_name} where id =%s'\n",
    "                cur.executemany(sql, id)\n",
    "            self.conn.commit()\n",
    "            return True\n",
    "        except Exception as e:\n",
    "            return False\n",
    "\n",
    "md = MariaDB(\"db_config\")\n",
    "#md.insert_many(\"Student\",[\"name\", \"email\", \"phone\", \"major\"],  [(\"daum\", \"daum@daum.net\", \"0109928279\", \"Internet_of_Thing\"), (\"dau\", \"daum@daum.ne\", \"010992827\", \"Internet_of_Thin\"),(\"da\", \"daum@daum.n\", \"01099282\", \"Internet_of_Thi\")])\n",
    "#md.update_many(\"student\", [\"update2@naver.com\", \"update2@naver.com\", \"update3@naver.com\"] , [1,2,3])\n",
    "md.delete_many(\"student\",[5,6])\n",
    "md.select(\"student\", 1)"
   ]
  },
  {
   "cell_type": "code",
   "execution_count": 198,
   "metadata": {},
   "outputs": [
    {
     "name": "stdout",
     "output_type": "stream",
     "text": [
      "[(10, 'update2@naver.com'), (11, 'update2@naver.com'), (12, 'update3@naver.com')]\n"
     ]
    }
   ],
   "source": [
    "a= zip([\"update2@naver.com\", \"update2@naver.com\", \"update3@naver.com\"] , [10,11,12])\n",
    "b = []\n",
    "for i, j in a:\n",
    "    b.append((j,i))\n",
    "\n",
    "print(b)\n",
    "\n"
   ]
  }
 ],
 "metadata": {
  "kernelspec": {
   "display_name": "Python 3.10.9 ('base')",
   "language": "python",
   "name": "python3"
  },
  "language_info": {
   "codemirror_mode": {
    "name": "ipython",
    "version": 3
   },
   "file_extension": ".py",
   "mimetype": "text/x-python",
   "name": "python",
   "nbconvert_exporter": "python",
   "pygments_lexer": "ipython3",
   "version": "3.10.9"
  },
  "orig_nbformat": 4,
  "vscode": {
   "interpreter": {
    "hash": "29865f05af80384af78d9233101596088e9d9771dcfe0a2d252f1a59aee54b06"
   }
  }
 },
 "nbformat": 4,
 "nbformat_minor": 2
}
