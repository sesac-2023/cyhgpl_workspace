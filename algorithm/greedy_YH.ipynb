{
 "cells": [
  {
   "cell_type": "markdown",
   "metadata": {},
   "source": [
    "알고리즘 문제풀이를 위한 세팅"
   ]
  },
  {
   "cell_type": "markdown",
   "metadata": {},
   "source": [
    "TDD\n",
    "    테스트 주도형 개발방식"
   ]
  },
  {
   "cell_type": "code",
   "execution_count": 6,
   "metadata": {},
   "outputs": [
    {
     "data": {
      "text/plain": [
       "6"
      ]
     },
     "execution_count": 6,
     "metadata": {},
     "output_type": "execute_result"
    }
   ],
   "source": [
    "# 테스트 주도형 개발방식\n",
    "# 거스름 돈으로 주는 동전 최소 갯수\n",
    "def solution_1(N):\n",
    "    N_500 = N//500\n",
    "    N_100 = (N//100)%5\n",
    "    N_50 = (N//50)%2\n",
    "    N_10 = (N//10)%5\n",
    "    answer = N_500+N_100+N_50+N_10\n",
    "    return answer\n",
    "\n",
    "def solution_2(N):\n",
    "    # 500원짜리 최대갯수 먼저구하고, 나머지금액에서 100원의 최대갯수, 그 나머지금액에서 50원의 최대갯수, 최종 남은 금액에서 10원의 최대갯수 구하기\n",
    "    answer = 0\n",
    "    return answer\n",
    "\n",
    "assert solution_1(1260) == 6, \"테스트 실패\"  #테스트에 합격하게 알고리즘 문제를 풀면된다. \n",
    "solution_1(1260)\n",
    "assert solution_2(1260) == 6, \"테스트 실패\"  #테스트에 합격하게 알고리즘 문제를 풀면된다. \n",
    "solution_2(1260)"
   ]
  },
  {
   "cell_type": "code",
   "execution_count": 36,
   "metadata": {},
   "outputs": [],
   "source": [
    "#체육복 빌려주기 \n",
    "def solution(n, lost, reserve):\n",
    "    n_lost = set(lost) - set(reserve)\n",
    "    n_reserve = set(reserve) - set(lost)\n",
    "    for x in n_lost:\n",
    "        # 조건절을 쓸 때 x-1부터 탐색하도록 해야 함 \n",
    "        if x -1 in n_reserve:\n",
    "            n_reserve.remove(x-1)\n",
    "        # if가 아니라면 x+1 탐색\n",
    "        elif x + 1 in n_reserve:\n",
    "            n_reserve.remove(x+1)\n",
    "        # 둘다 해당 안되면 체육복을 빌릴 수가 없음 \n",
    "        else:\n",
    "            n -= 1\n",
    "\n",
    "    return n \n"
   ]
  },
  {
   "cell_type": "code",
   "execution_count": null,
   "metadata": {},
   "outputs": [],
   "source": [
    "assert solution(5, [2,4], [1,3,5]) == 5, \"테스트 실패\"\n",
    "assert solution(5, [2,4], [3]) == 4, \"테스트 실패\"\n",
    "assert solution(3, [3], [1]) == 2, \"테스트 실패\"\n"
   ]
  },
  {
   "cell_type": "code",
   "execution_count": 30,
   "metadata": {},
   "outputs": [
    {
     "data": {
      "text/plain": [
       "[1, 2, 3, 4, 5]"
      ]
     },
     "execution_count": 30,
     "metadata": {},
     "output_type": "execute_result"
    }
   ],
   "source": [
    "list(range(1,6))"
   ]
  },
  {
   "cell_type": "code",
   "execution_count": null,
   "metadata": {},
   "outputs": [],
   "source": [
    "#삽입정렬\n",
    "\n",
    "def solution(array: list):\n",
    "    answer = []\n",
    "    # 1) 내가 정렬할 index를 설정한다. 0번째는 확인할 필요가 없으므로, 1부터 시작한다.\n",
    "\n",
    "    for i in range(1, len(array)):\n",
    "        # 2) 내 앞의 있는 배열을 가장 가까운 곳부터 먼 곳으로 대소비교한다.\n",
    "        # range(내 앞의 값부터, -1까지 = 0까지, 1씩 감소)\n",
    "        for j in range(i-1, 0-1, -1):\n",
    "            now_value = array[i] # 현재 값\n",
    "            target_value = array[j] # 비교 대상 값\n",
    "\n",
    "            # 2-1) 나보다 값이 클 경우, 해당 위치의 값과 내 위치의 값을 서로 교환한다.\n",
    "            # 2-2) 나보다 값이 작거나 같을 경우, 교환하지 않고 현재 회차를 종료한다.\n",
    "            if target_value > now_value:\n",
    "                array[i], array[j] = array[j], array[i] # 값 교환 pythonic\n",
    "                i = j # 현재 index를 j로 변경 (앞으로 이동)\n",
    "            else:\n",
    "                break\n",
    "\n",
    "        print(array)\n",
    "\n",
    "    # 3) 정렬을 시작할 index를 1 증가시키고, 2)의 과정을 반복한다.\n",
    "    # 4) 배열의 맨 마지막 index까지 진행하고, 정렬된 배열을 반환한다.\n",
    "\n",
    "    return answer"
   ]
  },
  {
   "cell_type": "code",
   "execution_count": 72,
   "metadata": {},
   "outputs": [
    {
     "data": {
      "text/plain": [
       "[0, 1, 2, 3, 4, 5, 6, 7, 8, 9]"
      ]
     },
     "execution_count": 72,
     "metadata": {},
     "output_type": "execute_result"
    }
   ],
   "source": [
    "#선택정렬\n",
    "def solution(array):\n",
    "    _array = []\n",
    "    for i in range(len(array)):\n",
    "        _array.append(min(array))\n",
    "        array.remove(min(array))\n",
    "    return _array\n",
    "\n",
    "solution([3,0,1,8,7,2,5,4,9,6])\n",
    "\n",
    "\n",
    "#버블 정렬\n",
    "def solution_2(array):\n",
    "    _array = []\n",
    "    while len(array) > 0:\n",
    "        for i in range(len(array)-1):\n",
    "            if array[i]>array[i+1]: \n",
    "                array[i], array[i+1] = array[i+1], array[i]\n",
    "            else:\n",
    "                pass\n",
    "        _array.append(array[-1])\n",
    "        array.pop()    \n",
    "    return _array[::-1]\n",
    "\n",
    "solution_2([3,0,1,8,7,2,5,4,9,6])\n",
    "\n",
    "\n",
    "#삽입 정렬\n",
    "def solution_3(array):\n",
    "    for i in range(1,len(array)):\n",
    "        for j in range(i, 0, -1):\n",
    "            if array[j-1]>array[j]:\n",
    "                array[j-1], array[j] = array[j], array[j-1]\n",
    "            else:\n",
    "                pass\n",
    "    return array\n",
    "\n",
    "\n",
    "solution_3([3,0,1,8,7,2,5,4,9,6])\n"
   ]
  },
  {
   "cell_type": "code",
   "execution_count": 63,
   "metadata": {},
   "outputs": [
    {
     "data": {
      "text/plain": [
       "[5, 6, 3]"
      ]
     },
     "execution_count": 63,
     "metadata": {},
     "output_type": "execute_result"
    }
   ],
   "source": [
    "# a~b사이 c번째수\n",
    "\n",
    "def solution(array, commands):\n",
    "    _array = []\n",
    "    __array = []\n",
    "    for i in commands:\n",
    "        _array = array[i[0]-1:i[1]]\n",
    "        _array.sort()\n",
    "        __array.append(_array[i[2]-1])\n",
    "    return __array\n",
    "\n",
    "solution([1, 5, 2, 6, 3, 7, 4],\t[[2, 5, 3], [4, 4, 1], [1, 7, 3]])"
   ]
  },
  {
   "cell_type": "code",
   "execution_count": 1,
   "metadata": {},
   "outputs": [
    {
     "data": {
      "text/plain": [
       "[1, 1, 1, 1, 1, 1, 1, 1, 1, 1]"
      ]
     },
     "execution_count": 1,
     "metadata": {},
     "output_type": "execute_result"
    }
   ],
   "source": [
    "[1]*10"
   ]
  },
  {
   "cell_type": "code",
   "execution_count": 64,
   "metadata": {},
   "outputs": [
    {
     "data": {
      "text/plain": [
       "'9534330'"
      ]
     },
     "execution_count": 64,
     "metadata": {},
     "output_type": "execute_result"
    }
   ],
   "source": [
    "# a~b사이 c번째수\n",
    "\n",
    "def solution(array, commands):\n",
    "    _array = []\n",
    "    __array = []\n",
    "    for i in commands:\n",
    "        _array = array[i[0]-1:i[1]]\n",
    "        _array.sort()\n",
    "        __array.append(_array[i[2]-1])\n",
    "    return __array\n",
    "\n",
    "solution([1, 5, 2, 6, 3, 7, 4],\t[[2, 5, 3], [4, 4, 1], [1, 7, 3]])\n",
    "\n",
    "#가장 큰수\n",
    "def solution(numbers):\n",
    "    # 1. 모든 수를 문자열로 변환\n",
    "    numbers = list(map(str, numbers))\n",
    "\n",
    "    # 2. x+y와 y+x를 비교하여 정렬\n",
    "    numbers.sort(key=lambda x: (x * 4)[:4], reverse=True)\n",
    "    # 3. 정렬된 numbers를 이어붙인 뒤 반환\n",
    "    answer = ''.join(numbers)\n",
    "\n",
    "    # 0이 여러개일 경우, \"000\" 대신 \"0\"을 반환하도록 예외처리\n",
    "    if answer[0] == '0':\n",
    "        return '0'\n",
    "    else:\n",
    "        return answer\n",
    "\n",
    "solution([3, 30, 34, 5, 9])\n",
    "\n",
    "\n",
    "        \n"
   ]
  },
  {
   "cell_type": "code",
   "execution_count": 66,
   "metadata": {},
   "outputs": [
    {
     "data": {
      "text/plain": [
       "4"
      ]
     },
     "execution_count": 66,
     "metadata": {},
     "output_type": "execute_result"
    }
   ],
   "source": [
    "#최빈값 구하기\n",
    "\n",
    "def solution(array):\n",
    "    set_array = set(array)\n",
    "    count = [0]*len(set_array)\n",
    "    for index, i in enumerate(set_array):\n",
    "        for j in array:\n",
    "            if i == j:\n",
    "                count[index] = count[index] + 1\n",
    "    if len(count)>1:\n",
    "        if sorted(count)[-1] == sorted(count)[-2]:\n",
    "            answer = -1\n",
    "        else:\n",
    "            for index, i in enumerate(count):\n",
    "                if i == max(count):\n",
    "                    answer = list(set_array)[index]\n",
    "    else:\n",
    "        answer = list(set_array)[0]\n",
    "    return answer\n",
    "\n",
    "solution([1, 1, 2, 3, 4, 4, 4])\n"
   ]
  },
  {
   "cell_type": "code",
   "execution_count": 63,
   "metadata": {},
   "outputs": [
    {
     "name": "stdout",
     "output_type": "stream",
     "text": [
      "6\n"
     ]
    },
    {
     "data": {
      "text/plain": [
       "1.0"
      ]
     },
     "execution_count": 63,
     "metadata": {},
     "output_type": "execute_result"
    }
   ],
   "source": [
    "#피자 나눠 먹기(3)\n",
    "def solution(slice, n):\n",
    "    if n%slice == 0:\n",
    "        answer = n//slice\n",
    "    else:\n",
    "        answer = n//slice+1\n",
    "    return answer\n",
    "\n",
    "#피자 나눠 먹기(2)\n",
    "# def solution_2(n):\n",
    "#     return math.lcm(6,n)/6\n",
    "\n",
    "def solution_2(n):\n",
    "    for i in range(max(6,n), 6*n+1):\n",
    "        if i%6 == 0 and i%n == 0:  #최소 공배수 구하기\n",
    "            answer = i/6\n",
    "            break\n",
    "    return answer\n",
    "\n",
    "solution_2(6)"
   ]
  },
  {
   "cell_type": "code",
   "execution_count": 71,
   "metadata": {},
   "outputs": [
    {
     "name": "stdout",
     "output_type": "stream",
     "text": [
      "1\n"
     ]
    }
   ],
   "source": [
    "#얼음틀 DFS 방식\n",
    "\n",
    "N,M = map(int,input().split())\n",
    "\n",
    "graph=[]\n",
    "for i in range(N):\n",
    "    graph.append(list(map(int,input())))\n",
    "\n",
    "def ice_dfs(x,y):\n",
    "    # 종료조건 1\n",
    "    if x<0 or x>=N or y<0 or y>=M:\n",
    "        return False  \n",
    "\n",
    "    # 성공조건  \n",
    "    if graph[x][y]==0:\n",
    "        graph[x][y]=1\n",
    "        ice_dfs(x,y-1) # 좌\n",
    "        ice_dfs(x,y+1) # 우\n",
    "        ice_dfs(x-1,y) # 상\n",
    "        ice_dfs(x+1,y) # 하\n",
    "        return True\n",
    "      \n",
    "    # 종료조건 2\n",
    "    return False    \n",
    "    \n",
    "result=0\n",
    "for i in range(N):\n",
    "    for j in range(M):\n",
    "        if ice_dfs(i,j):\n",
    "            result+=1\n",
    "print(result)"
   ]
  },
  {
   "cell_type": "code",
   "execution_count": 78,
   "metadata": {},
   "outputs": [
    {
     "name": "stdout",
     "output_type": "stream",
     "text": [
      "3\n"
     ]
    }
   ],
   "source": [
    "#미로문제 BFS\n",
    "from collections import deque\n",
    "\n",
    "# N, M을 공백을 기준으로 구분하여 입력 받기\n",
    "n, m = map(int, input().split())\n",
    "# 2차원 리스트의 맵 정보 입력 받기\n",
    "graph = []\n",
    "for i in range(n):\n",
    "    graph.append(list(map(int, input())))\n",
    "\n",
    "# 이동할 네 가지 방향 정의 (상, 하, 좌, 우)\n",
    "dx = [-1, 1, 0, 0]\n",
    "dy = [0, 0, -1, 1]\n",
    "\n",
    "# BFS 소스코드 구현\n",
    "def bfs(x, y):\n",
    "    # 큐(Queue) 구현을 위해 deque 라이브러리 사용\n",
    "    queue = deque()\n",
    "    queue.append((x, y))\n",
    "    # 큐가 빌 때까지 반복하기\n",
    "    while queue:\n",
    "        x, y = queue.popleft()\n",
    "        # 현재 위치에서 4가지 방향으로의 위치 확인\n",
    "        for i in range(4):\n",
    "            nx = x + dx[i]\n",
    "            ny = y + dy[i]\n",
    "            # 미로 찾기 공간을 벗어난 경우 무시\n",
    "            if nx < 0 or nx >= n or ny < 0 or ny >= m:\n",
    "                continue\n",
    "            # 벽인 경우 무시\n",
    "            if graph[nx][ny] == 0:\n",
    "                continue\n",
    "            # 해당 노드를 처음 방문하는 경우에만 최단 거리 기록\n",
    "            if graph[nx][ny] == 1:\n",
    "                graph[nx][ny] = graph[x][y] + 1\n",
    "                queue.append((nx, ny))\n",
    "    # 가장 오른쪽 아래까지의 최단 거리 반환\n",
    "    return graph[n - 1][m - 1]\n",
    "\n",
    "# BFS를 수행한 결과 출력\n",
    "print(bfs(0, 0))"
   ]
  },
  {
   "cell_type": "code",
   "execution_count": 92,
   "metadata": {},
   "outputs": [
    {
     "data": {
      "text/plain": [
       "-1"
      ]
     },
     "execution_count": 92,
     "metadata": {},
     "output_type": "execute_result"
    }
   ],
   "source": [
    "#게임맵 최단거리_프로그래머스\n",
    "from collections import deque\n",
    "\n",
    "# BFS 소스코드 구현\n",
    "def solution(map):\n",
    "    n=len(map)\n",
    "    m=len(map[0])\n",
    "    # 큐(Queue) 구현을 위해 deque 라이브러리 사용\n",
    "    queue = deque()\n",
    "    queue.append((0, 0))\n",
    "    # 큐가 빌 때까지 반복하기\n",
    "    dx = [-1, 1, 0, 0]\n",
    "    dy = [0, 0, -1, 1]\n",
    "    while queue:\n",
    "        x, y = queue.popleft()\n",
    "        # 현재 위치에서 4가지 방향으로의 위치 확인\n",
    "        for i in range(4):\n",
    "            nx = x + dx[i]\n",
    "            ny = y + dy[i]\n",
    "            # 미로 찾기 공간을 벗어난 경우 무시\n",
    "            if nx < 0 or nx >= n or ny < 0 or ny >= m:\n",
    "                continue\n",
    "            # 벽인 경우 무시\n",
    "            if map[nx][ny] == 0:\n",
    "                continue\n",
    "            # 해당 노드를 처음 방문하는 경우에만 최단 거리 기록\n",
    "            if map[nx][ny] == 1:\n",
    "                map[nx][ny] = map[x][y] + 1\n",
    "                queue.append((nx, ny))\n",
    "    # 막혀있는 경우 -1 반환하게 하기\n",
    "        if map[n-1][m-1] <=1:\n",
    "            answer = -1\n",
    "        else:\n",
    "            answer = map[n-1][m-1]\n",
    "    return answer\n",
    "\n",
    "# BFS를 수행한 결과 출력\n",
    "solution([[1,0,1,1,1],[1,0,1,0,1],[1,0,1,1,1],[1,1,1,0,0],[0,0,0,0,1]])"
   ]
  },
  {
   "cell_type": "code",
   "execution_count": 94,
   "metadata": {},
   "outputs": [
    {
     "data": {
      "text/plain": [
       "2"
      ]
     },
     "execution_count": 94,
     "metadata": {},
     "output_type": "execute_result"
    }
   ],
   "source": [
    "# 타겟넘버 _프로그래머스_ 주어진 숫자 배열을 순서를 바꾸지 않고 더하거나 빼서 타겟 넘버 도출 \n",
    "def solution(numbers, target):\n",
    "    idx = curr = 0\n",
    "\n",
    "    def dfs(nums, target, curr, idx):\n",
    "        # 결과 비교는 마지막에 인덱스가 끝까지 갔을 때 합니다\n",
    "        if idx == len(nums):\n",
    "            return 1 if curr == target else 0\n",
    "\n",
    "        # idx를 한칸 움직여주고 curr에 이번 값을 더하거나 뺍니다\n",
    "        return dfs(nums, target, curr + nums[idx], idx + 1) + dfs(nums, target, curr - nums[idx], idx + 1)\n",
    "\n",
    "    answer = dfs(numbers, target, idx, curr)\n",
    "    return answer\n",
    "\n",
    "solution([4, 1, 2, 1],4)\n",
    "\n",
    "def solution_2(numbers, target):\n",
    "    sup= [0]                    # 첫번째 노드 생성\n",
    "    for i in numbers:       \n",
    "        sub = []\n",
    "        for j in sup : \n",
    "            sub.append(j+i)     # +인경우 -인경우 \n",
    "            sub.append(j-i)\n",
    "        sup = sub               # 다음 회차에서 노드로 넘어가기 위해서 sup 갱신\n",
    "    return sup.count(target)\n"
   ]
  },
  {
   "cell_type": "code",
   "execution_count": null,
   "metadata": {},
   "outputs": [],
   "source": [
    "N,M = map(int,input().split())\n",
    "\n",
    "graph=[]\n",
    "for i in range(N):\n",
    "    graph.append(list(map(int,input())))\n",
    "\n",
    "def ice_dfs(x,y):\n",
    "    # 종료조건 1\n",
    "    if x<0 or x>=N or y<0 or y>=M:\n",
    "        return False  \n",
    "\n",
    "    # 성공조건  \n",
    "    if graph[x][y]==0:\n",
    "        graph[x][y]=1\n",
    "        ice_dfs(x,y-1) # 좌\n",
    "        ice_dfs(x,y+1) # 우\n",
    "        ice_dfs(x-1,y) # 상\n",
    "        ice_dfs(x+1,y) # 하\n",
    "        return True\n",
    "      \n",
    "    # 종료조건 2\n",
    "    return False    \n",
    "    \n",
    "result=0\n",
    "for i in range(N):\n",
    "    for j in range(M):\n",
    "        if ice_dfs(i,j):\n",
    "            result+=1\n",
    "print(result)"
   ]
  },
  {
   "cell_type": "code",
   "execution_count": 13,
   "metadata": {},
   "outputs": [
    {
     "name": "stdout",
     "output_type": "stream",
     "text": [
      "54438373113565281338734260993750380135389184554695967026247715841208582865622349017083051547938960541173822675978026317384359584751116241439174702642959169925586334117906063048089793531476108466259072759367899150677960088306597966641965824937721800381441158841042480997984696487375337180028163763317781927941101369262750979509800713596718023814710669912644214775254478587674568963808002962265133111359929762726679441400101575800043510777465935805362502461707918059226414679005690752321895868142367849593880756423483754386342639635970733756260098962462668746112041739819404875062443709868654315626847186195620146126642232711815040367018825205314845875817193533529827837800351902529239517836689467661917953884712441028463935449484614450778762529520961887597272889220768537396475869543159172434537193611263743926337313005896167248051737986306368115003088396749587102619524631352447499505204198305187168321623283859794627245919771454628218399695789223798912199431775469705216131081096559950638297261253848242007897109054754028438149611930465061866170122983288964352733750792786069444761853525144421077928045979904561298129423809156055033032338919609162236698759922782923191896688017718575555520994653320128446502371153715141749290913104897203455577507196645425232862022019506091483585223882711016708433051169942115775151255510251655931888164048344129557038825477521111577395780115868397072602565614824956460538700280331311861485399805397031555727529693399586079850381581446276433858828529535803424850845426446471681531001533180479567436396815653326152509571127480411928196022148849148284389124178520174507305538928717857923509417743383331506898239354421988805429332440371194867215543576548565499134519271098919802665184564927827827212957649240235507595558205647569365394873317659000206373126570643509709482649710038733517477713403319028105575667931789470024118803094604034362953471997461392274791549730356412633074230824051999996101549784667340458326852960388301120765629245998136251652347093963049734046445106365304163630823669242257761468288461791843224793434406079917883360676846711185597501\n",
      "0.02915215492248535\n"
     ]
    }
   ],
   "source": [
    "# DP(Dynamic Programming 동적 프로그래밍)\n",
    "def fibo(n):\n",
    "    list = [1, 1]\n",
    "    if n == 0:\n",
    "        return list[n]\n",
    "    if n == 1:\n",
    "        return list[n]\n",
    "    for n in range(2, n+1):\n",
    "        list.append(list[n-1]+list[n-2])\n",
    "    return list[-1]\n",
    "import time\n",
    "\n",
    "start_time = time.time()\n",
    "print(fibo(10000))\n",
    "print(time.time() - start_time)"
   ]
  },
  {
   "cell_type": "code",
   "execution_count": 35,
   "metadata": {},
   "outputs": [
    {
     "data": {
      "text/plain": [
       "30"
      ]
     },
     "execution_count": 35,
     "metadata": {},
     "output_type": "execute_result"
    }
   ],
   "source": [
    "#triangle 모든 경우(시간 오래걸림)\n",
    "\n",
    "def solution(triangle):\n",
    "    a = []\n",
    "    if len(triangle) == 1:\n",
    "        return triangle[0][0]\n",
    "    def sum(array):\n",
    "        k = 0\n",
    "        triangle_sum = 0\n",
    "        for i in range(len(array)):\n",
    "            triangle_sum = triangle_sum + triangle[i][k + int(array[i])]\n",
    "            k = k + int(array[i])\n",
    "        return  triangle_sum\n",
    "\n",
    "    for i in range(2**(len(triangle)-1)):\n",
    "        array = list(bin(i+2**len(triangle)))[3:]\n",
    "        a.append(sum(array))\n",
    "\n",
    "    return max(a)\n",
    "\n",
    "#triangle 아래서부터 제거 \n",
    "def solution_2(triangle):\n",
    "    for i in range(len(triangle)-1, 0, -1):\n",
    "        for j in range(len(triangle[i])-1):\n",
    "            triangle[i-1][j] = triangle[i-1][j]+max([triangle[i][j], triangle[i][j+1]])\n",
    "    return triangle[0][0]\n",
    "\n",
    "solution_2([[7], [3, 8], [8, 1, 0], [2, 7, 4, 4], [4, 5, 2, 6, 5]])\n",
    "\n",
    "\n",
    "\n",
    "        "
   ]
  },
  {
   "cell_type": "code",
   "execution_count": 33,
   "metadata": {},
   "outputs": [
    {
     "data": {
      "text/plain": [
       "[0, 1, 2, 3]"
      ]
     },
     "execution_count": 33,
     "metadata": {},
     "output_type": "execute_result"
    }
   ],
   "source": [
    "triangle = [[7], [3, 8], [8, 1, 0], [2, 7, 4, 4], [4, 5, 2, 6, 5]]\n",
    "max([triangle[4][1], triangle[4][2]])\n",
    "list(range(4))"
   ]
  },
  {
   "cell_type": "code",
   "execution_count": 16,
   "metadata": {},
   "outputs": [
    {
     "data": {
      "text/plain": [
       "['1', '0', '0', '0', '0']"
      ]
     },
     "execution_count": 16,
     "metadata": {},
     "output_type": "execute_result"
    }
   ],
   "source": [
    "list(bin(16))[2:]"
   ]
  },
  {
   "cell_type": "code",
   "execution_count": 37,
   "metadata": {},
   "outputs": [
    {
     "data": {
      "text/plain": [
       "[2, 4, 3, 5, 1]"
      ]
     },
     "execution_count": 37,
     "metadata": {},
     "output_type": "execute_result"
    }
   ],
   "source": [
    "# 진료순서 정하기 \n",
    "def solution(emergency):\n",
    "    return [sorted(emergency, reverse=True).index(e)+1 for e in emergency]\n",
    "\n",
    "solution([30, 10, 23, 6, 100])"
   ]
  },
  {
   "cell_type": "code",
   "execution_count": null,
   "metadata": {},
   "outputs": [],
   "source": [
    "# 약수의 갯수_순서쌍의 갯수\n",
    "def solution(n):\n",
    "    cnt = 0\n",
    "    for i in range(1, n+1):\n",
    "        if n%i == 0:\n",
    "            cnt += 1\n",
    "    # len([i for i in range(1, n+1) if n%i == 0])\n",
    "    \n",
    "    return cnt"
   ]
  },
  {
   "cell_type": "code",
   "execution_count": null,
   "metadata": {},
   "outputs": [],
   "source": [
    "# 머쓱이보다 키 큰 사람\n",
    "def solution(array, height):\n",
    "    return len([i for i in array if i>height])"
   ]
  },
  {
   "cell_type": "code",
   "execution_count": 44,
   "metadata": {},
   "outputs": [
    {
     "data": {
      "text/plain": [
       "6"
      ]
     },
     "execution_count": 44,
     "metadata": {},
     "output_type": "execute_result"
    }
   ],
   "source": [
    "# k의 갯수\n",
    "def solution(i, j, k):\n",
    "    cnt=0\n",
    "    a = [str(i) for i in range(i, j+1)]\n",
    "    for i in a:\n",
    "        for j in list(i):\n",
    "            if j == str(k):\n",
    "                cnt +=1\n",
    "    return cnt\n",
    "\n",
    "solution(1, 13, 1)\n"
   ]
  },
  {
   "cell_type": "code",
   "execution_count": 61,
   "metadata": {},
   "outputs": [
    {
     "name": "stdout",
     "output_type": "stream",
     "text": [
      "['chicken', 'apple', 'apple', 'banana', 'rice', 'apple', 'pork', 'banana', 'pork', 'rice']\n",
      "['apple', 'apple', 'banana', 'rice', 'apple', 'pork', 'banana', 'pork', 'rice', 'pot']\n",
      "['apple', 'banana', 'rice', 'apple', 'pork', 'banana', 'pork', 'rice', 'pot', 'banana']\n",
      "['banana', 'rice', 'apple', 'pork', 'banana', 'pork', 'rice', 'pot', 'banana', 'apple']\n",
      "['rice', 'apple', 'pork', 'banana', 'pork', 'rice', 'pot', 'banana', 'apple', 'banana']\n"
     ]
    },
    {
     "data": {
      "text/plain": [
       "3"
      ]
     },
     "execution_count": 61,
     "metadata": {},
     "output_type": "execute_result"
    }
   ],
   "source": [
    "# 할인행사\n",
    "def solution(want, number, discount):\n",
    "    answer = 0\n",
    "    for i in range(len(discount)-9):\n",
    "        cnt = 0\n",
    "        print(discount[i:i+10])\n",
    "        for j in range(len(want)):\n",
    "            if discount[i:i+10].count(want[j]) == number[j]:\n",
    "                cnt +=1\n",
    "        if cnt == len(want):\n",
    "            answer += 1\n",
    "    return answer\n",
    "\n",
    "solution([\"banana\", \"apple\", \"rice\", \"pork\", \"pot\"], [3, 2, 2, 2, 1], [\"chicken\", \"apple\", \"apple\", \"banana\", \"rice\", \"apple\", \"pork\", \"banana\", \"pork\", \"rice\", \"pot\", \"banana\", \"apple\", \"banana\"])"
   ]
  }
 ],
 "metadata": {
  "kernelspec": {
   "display_name": "Python 3.10.4 64-bit",
   "language": "python",
   "name": "python3"
  },
  "language_info": {
   "codemirror_mode": {
    "name": "ipython",
    "version": 3
   },
   "file_extension": ".py",
   "mimetype": "text/x-python",
   "name": "python",
   "nbconvert_exporter": "python",
   "pygments_lexer": "ipython3",
   "version": "3.10.4"
  },
  "orig_nbformat": 4,
  "vscode": {
   "interpreter": {
    "hash": "369f2c481f4da34e4445cda3fffd2e751bd1c4d706f27375911949ba6bb62e1c"
   }
  }
 },
 "nbformat": 4,
 "nbformat_minor": 2
}
