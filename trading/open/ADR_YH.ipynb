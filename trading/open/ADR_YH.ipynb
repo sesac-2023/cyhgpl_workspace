{
 "cells": [
  {
   "cell_type": "code",
   "execution_count": 3,
   "metadata": {},
   "outputs": [
    {
     "data": {
      "text/plain": [
       "494    95.580516\n",
       "495    94.430493\n",
       "496    96.228596\n",
       "497    94.644437\n",
       "498    95.212023\n",
       "499    95.438227\n",
       "500    95.016788\n",
       "501    94.798761\n",
       "502    95.700647\n",
       "503    94.440034\n",
       "504    95.296890\n",
       "505    95.046453\n",
       "506    94.777309\n",
       "507    94.927847\n",
       "508    95.172218\n",
       "Name: predicted_mean, dtype: float64"
      ]
     },
     "execution_count": 3,
     "metadata": {},
     "output_type": "execute_result"
    }
   ],
   "source": [
    "import matplotlib.pyplot as plt\n",
    "import matplotlib\n",
    "import itertools\n",
    "\n",
    "import pandas as pd\n",
    "import numpy as np\n",
    "import random\n",
    "import os\n",
    "from tqdm import tqdm\n",
    "from statsmodels.tsa.arima.model import ARIMA\n",
    "import warnings\n",
    "from sklearn.linear_model import LinearRegression\n",
    "lr = LinearRegression()\n",
    "\n",
    "warnings.filterwarnings(\"ignore\")\n",
    "\n",
    "def seed_everything(seed):\n",
    "    random.seed(seed)\n",
    "    os.environ['PYTHONHASHSEED'] = str(seed)\n",
    "    np.random.seed(seed)\n",
    "\n",
    "seed_everything(42) # Seed 고정\n",
    "\n",
    "train = pd.read_csv('./train.csv')\n",
    "kosdaq_kospi = pd.read_csv('./stock_data/kosdaq_kospi_list.csv', encoding='euc-kr')\n",
    "kospi = kosdaq_kospi[\"코스피\"]\n",
    "kosdaq = list(kosdaq_kospi[\"코스닥\"])\n",
    "adr_final = pd.read_csv('./stock_data/adr_final.csv', encoding='euc-kr') # 코스피 종목수\n",
    "adr_final[\"Date\"] = adr_final[\"Date\"].str[1:]\n",
    "adr_final[\"kospi_pm\"]=adr_final[\"kospi_adr\"]-adr_final[\"kospi_adr\"].shift(1)\n",
    "adr_final[\"kosdaq_pm\"]=adr_final[\"kosdaq_adr\"]-adr_final[\"kosdaq_adr\"].shift(1)\n",
    " \n",
    "# 추론 결과를 저장하기 위한 dataframe 생성\n",
    "results_df = pd.DataFrame()\n",
    "\n",
    "# train 데이터에 존재하는 독립적인 종목코드 추출\n",
    "unique_codes = train['종목코드'].unique()\n",
    "\n",
    "## 각 종목코드에 대해서 모델 학습 및 추론 반복\n",
    "tmp = []\n",
    "\n",
    "\n",
    "tc = adr_final[\"kospi_adr\"]\n",
    "\n",
    "model = ARIMA(tc, order=(4, 2, 4))\n",
    "model_fit = model.fit()\n",
    "predictions = model_fit.forecast(steps=15) # 향후 15개의 거래일에 대해서 예측\n",
    "\n",
    "\n",
    "\n",
    "# p = range(0, 5)\n",
    "# d = range(0, 5)\n",
    "# q = range(0, 5)\n",
    "# pdq = list(itertools.product(p, d, q))\n",
    "\n",
    "# AIC = []\n",
    "# aic = {}\n",
    "# for i in pdq :\n",
    "#     model = ARIMA(tc, order=(i))\n",
    "#     model_fit = model.fit()\n",
    "#     print(f'ARIMA pdq : {i} >> AIC : {round(model_fit.aic, 2)}')\n",
    "#     AIC.append(round(model_fit.aic, 2))\n",
    "#     aic[round(model_fit.aic, 2)] = i\n",
    "\n",
    "# min(aic)\n",
    "\n",
    "\n",
    "predictions"
   ]
  },
  {
   "cell_type": "code",
   "execution_count": 25,
   "metadata": {},
   "outputs": [
    {
     "name": "stderr",
     "output_type": "stream",
     "text": [
      "100%|██████████| 2000/2000 [02:48<00:00, 11.89it/s]\n"
     ]
    }
   ],
   "source": [
    "from sklearn.metrics import r2_score, mean_squared_error\n",
    "# 각 코드에서 회귀분석\n",
    "code_list = []\n",
    "coef = []\n",
    "intercept = []\n",
    "predict = []\n",
    "# for code in ['A054620']:\n",
    "# fig, axes = plt.subplots(5,5,figsize =(20,20))\n",
    "train = pd.read_csv('./train.csv')\n",
    "\n",
    "cnt = 0\n",
    "for code in tqdm(unique_codes):\n",
    "#code = \"A103840\"\n",
    "\n",
    "    # 20일선 가격의 상승분과 비교\n",
    "    train_close = train[train['종목코드'] == code][['일자', '종가', '종목코드']]\n",
    "    #train_close['일자'] = pd.to_datetime(train_close['일자'], format='%Y%m%d')\n",
    "    train_close.set_index(np.arange(len(train_close)), inplace=True)\n",
    "    train_close.columns = ['Date', '종가','종목코드']\n",
    "    train_close[\"shift\"] = train_close[\"종가\"].shift(11)\n",
    "    train_close[\"증감\"] = ((train_close[\"종가\"] - train_close[\"shift\"]) / train_close[\"shift\"])*100  # 당일종가-전일종가/전일종가 로 등락폭 계산\n",
    "    train_close[\"Date\"] = train_close['Date'].astype(int)\n",
    "    adr_final[\"Date\"]=adr_final[\"Date\"].astype(int)\n",
    "    train_adr = pd.merge(left = train_close, right = adr_final, how = \"inner\", on = \"Date\")\n",
    "    \n",
    "    x = train_adr['kospi_adr'].iloc[11:].values.reshape(-1,1)\n",
    "    y = train_adr['증감'].iloc[11:]\n",
    "    fit = lr.fit(x, y)\n",
    "    code_list.append(code)\n",
    "    coef.append(fit.coef_)\n",
    "    intercept.append(fit.intercept_)\n",
    "\n",
    "    # score.append(r2_score(x, y))\n",
    "    # p = range(0, 5)\n",
    "    # d = range(0, 5)\n",
    "    # pdq = list(itertools.product(p, d))\n",
    "    # axes[pdq[cnt][0], pdq[cnt][1]].scatter(x, y)\n",
    "    # cnt += 1\n",
    "\n",
    "# predict = map(lambda x,y: 95*x+y, coef, intercept)\n",
    "result = pd.DataFrame()\n",
    "result['종목코드'] = pd.Series(code_list)\n",
    "# result['predict']= pd.Series(predict)\n"
   ]
  },
  {
   "cell_type": "code",
   "execution_count": 26,
   "metadata": {},
   "outputs": [
    {
     "name": "stdout",
     "output_type": "stream",
     "text": [
      "[1.35687321] [-1.69329722]\n",
      "215.62650537746595 -105.6318472893771\n"
     ]
    },
    {
     "data": {
      "text/plain": [
       "<matplotlib.collections.PathCollection at 0x186417a1600>"
      ]
     },
     "execution_count": 26,
     "metadata": {},
     "output_type": "execute_result"
    },
    {
     "data": {
      "image/png": "[encoded data removed]",
      "text/plain": [
       "<Figure size 640x480 with 1 Axes>"
      ]
     },
     "metadata": {},
     "output_type": "display_data"
    }
   ],
   "source": [
    "import pandas as pd\n",
    "\n",
    "result['기울기'] =  pd.Series(coef)\n",
    "result['절편'] =  pd.Series(intercept)\n",
    "result.head(200)\n",
    "print(max(coef), min(coef))\n",
    "print(max(intercept), min(intercept))\n",
    "plt.scatter(coef, intercept)\n",
    "# 기울기와 절편은 완벽한 음의 상관관계이다.\n",
    "# 기울기가 높은 것을 먼저 구하고, 절편이 낮은 것을 가져온다. \n"
   ]
  },
  {
   "cell_type": "code",
   "execution_count": 27,
   "metadata": {},
   "outputs": [],
   "source": [
    "result['순위'] = result['기울기'].rank(method='first', ascending=False).astype('int') # 각 순위를 중복없이 생성\n",
    "result = result.sort_values(by='순위')\n",
    "result.to_csv('./stock_data/0721result.csv', encoding='euc-kr')\n",
    "\n",
    "sample_submission = pd.read_csv('./sample_submission.csv')\n",
    "baseline_submission = sample_submission[['종목코드']].merge(result[['종목코드', '순위']], on='종목코드', how='right')\n",
    "baseline_submission.to_csv('0722_11test_submission.csv', index=False)"
   ]
  },
  {
   "cell_type": "code",
   "execution_count": 28,
   "metadata": {},
   "outputs": [
    {
     "data": {
      "text/html": [
       "<div>\n",
       "<style scoped>\n",
       "    .dataframe tbody tr th:only-of-type {\n",
       "        vertical-align: middle;\n",
       "    }\n",
       "\n",
       "    .dataframe tbody tr th {\n",
       "        vertical-align: top;\n",
       "    }\n",
       "\n",
       "    .dataframe thead th {\n",
       "        text-align: right;\n",
       "    }\n",
       "</style>\n",
       "<table border=\"1\" class=\"dataframe\">\n",
       "  <thead>\n",
       "    <tr style=\"text-align: right;\">\n",
       "      <th></th>\n",
       "      <th>종목코드</th>\n",
       "      <th>기울기</th>\n",
       "      <th>절편</th>\n",
       "      <th>순위</th>\n",
       "    </tr>\n",
       "  </thead>\n",
       "  <tbody>\n",
       "    <tr>\n",
       "      <th>1667</th>\n",
       "      <td>A064520</td>\n",
       "      <td>[1.3568732075555414]</td>\n",
       "      <td>-105.631847</td>\n",
       "      <td>1</td>\n",
       "    </tr>\n",
       "    <tr>\n",
       "      <th>606</th>\n",
       "      <td>A054180</td>\n",
       "      <td>[1.0910266495562162]</td>\n",
       "      <td>-78.480375</td>\n",
       "      <td>2</td>\n",
       "    </tr>\n",
       "    <tr>\n",
       "      <th>1012</th>\n",
       "      <td>A123010</td>\n",
       "      <td>[0.956492487302515]</td>\n",
       "      <td>-82.517014</td>\n",
       "      <td>3</td>\n",
       "    </tr>\n",
       "    <tr>\n",
       "      <th>1010</th>\n",
       "      <td>A101390</td>\n",
       "      <td>[0.8851456646804227]</td>\n",
       "      <td>-60.201184</td>\n",
       "      <td>4</td>\n",
       "    </tr>\n",
       "    <tr>\n",
       "      <th>1535</th>\n",
       "      <td>A016790</td>\n",
       "      <td>[0.7806926285321633]</td>\n",
       "      <td>-63.643698</td>\n",
       "      <td>5</td>\n",
       "    </tr>\n",
       "    <tr>\n",
       "      <th>...</th>\n",
       "      <td>...</td>\n",
       "      <td>...</td>\n",
       "      <td>...</td>\n",
       "      <td>...</td>\n",
       "    </tr>\n",
       "    <tr>\n",
       "      <th>1269</th>\n",
       "      <td>A064090</td>\n",
       "      <td>[-0.31678334723626367]</td>\n",
       "      <td>51.362763</td>\n",
       "      <td>1996</td>\n",
       "    </tr>\n",
       "    <tr>\n",
       "      <th>1360</th>\n",
       "      <td>A093230</td>\n",
       "      <td>[-0.325326983848786]</td>\n",
       "      <td>47.844253</td>\n",
       "      <td>1997</td>\n",
       "    </tr>\n",
       "    <tr>\n",
       "      <th>50</th>\n",
       "      <td>A214270</td>\n",
       "      <td>[-0.4984100090979574]</td>\n",
       "      <td>60.381693</td>\n",
       "      <td>1998</td>\n",
       "    </tr>\n",
       "    <tr>\n",
       "      <th>1059</th>\n",
       "      <td>A263540</td>\n",
       "      <td>[-0.8370237515116352]</td>\n",
       "      <td>118.235379</td>\n",
       "      <td>1999</td>\n",
       "    </tr>\n",
       "    <tr>\n",
       "      <th>371</th>\n",
       "      <td>A145210</td>\n",
       "      <td>[-1.693297216923877]</td>\n",
       "      <td>215.626505</td>\n",
       "      <td>2000</td>\n",
       "    </tr>\n",
       "  </tbody>\n",
       "</table>\n",
       "<p>2000 rows × 4 columns</p>\n",
       "</div>"
      ],
      "text/plain": [
       "         종목코드                     기울기          절편    순위\n",
       "1667  A064520    [1.3568732075555414] -105.631847     1\n",
       "606   A054180    [1.0910266495562162]  -78.480375     2\n",
       "1012  A123010     [0.956492487302515]  -82.517014     3\n",
       "1010  A101390    [0.8851456646804227]  -60.201184     4\n",
       "1535  A016790    [0.7806926285321633]  -63.643698     5\n",
       "...       ...                     ...         ...   ...\n",
       "1269  A064090  [-0.31678334723626367]   51.362763  1996\n",
       "1360  A093230    [-0.325326983848786]   47.844253  1997\n",
       "50    A214270   [-0.4984100090979574]   60.381693  1998\n",
       "1059  A263540   [-0.8370237515116352]  118.235379  1999\n",
       "371   A145210    [-1.693297216923877]  215.626505  2000\n",
       "\n",
       "[2000 rows x 4 columns]"
      ]
     },
     "execution_count": 28,
     "metadata": {},
     "output_type": "execute_result"
    }
   ],
   "source": [
    "result"
   ]
  },
  {
   "cell_type": "code",
   "execution_count": 125,
   "metadata": {},
   "outputs": [
    {
     "name": "stdout",
     "output_type": "stream",
     "text": [
      "[2.16644082] [-1.10157909]\n",
      "201 226 0.016873075986787903 0.02718935871872349\n"
     ]
    },
    {
     "data": {
      "image/png": "[encoded data removed]",
      "text/plain": [
       "<Figure size 640x480 with 1 Axes>"
      ]
     },
     "metadata": {},
     "output_type": "display_data"
    }
   ],
   "source": [
    "import numpy as np\n",
    "print(max(coef), min(coef))\n",
    "plt.scatter(x, y)\n",
    "mcnt = 0\n",
    "pcnt = 0 \n",
    "for i in coef:\n",
    "    if i>0.12:\n",
    "        pcnt +=1\n",
    "    elif i<-0.06:\n",
    "        mcnt +=1\n",
    "np.median(coef)\n",
    "print(pcnt, mcnt, np.median(coef), np.average(coef))"
   ]
  }
 ],
 "metadata": {
  "kernelspec": {
   "display_name": "Python 3.10.9 ('base')",
   "language": "python",
   "name": "python3"
  },
  "language_info": {
   "codemirror_mode": {
    "name": "ipython",
    "version": 3
   },
   "file_extension": ".py",
   "mimetype": "text/x-python",
   "name": "python",
   "nbconvert_exporter": "python",
   "pygments_lexer": "ipython3",
   "version": "3.10.9"
  },
  "orig_nbformat": 4,
  "vscode": {
   "interpreter": {
    "hash": "29865f05af80384af78d9233101596088e9d9771dcfe0a2d252f1a59aee54b06"
   }
  }
 },
 "nbformat": 4,
 "nbformat_minor": 2
}
